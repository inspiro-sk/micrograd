{
 "cells": [
  {
   "cell_type": "code",
   "execution_count": null,
   "metadata": {},
   "outputs": [],
   "source": [
    "import math\n",
    "import numpy as np\n",
    "import matplotlib.pyplot as plt\n",
    "%matplotlib inline\n",
    "\n",
    "from backprop import Value\n",
    "from nn import Neuron, Layer, MLP"
   ]
  },
  {
   "cell_type": "code",
   "execution_count": null,
   "metadata": {},
   "outputs": [],
   "source": [
    "# understanding derivatives\n",
    "def f(x):\n",
    "    return 3*x**2 - 4*x + 5"
   ]
  },
  {
   "cell_type": "code",
   "execution_count": null,
   "metadata": {},
   "outputs": [],
   "source": [
    "f(3.0)"
   ]
  },
  {
   "cell_type": "code",
   "execution_count": null,
   "metadata": {},
   "outputs": [],
   "source": [
    "# let's plot the function to determine shape (parabola)\n",
    "xs = np.arange(-5, 5, 0.25)\n",
    "ys = f(xs)\n",
    "plt.plot(xs, ys)"
   ]
  },
  {
   "cell_type": "code",
   "execution_count": null,
   "metadata": {},
   "outputs": [],
   "source": [
    "# now calculate derivatives (3*2*x - 4)\n",
    "h = 0.001\n",
    "x = 3.0\n",
    "(f(x + h) - f(x))/h"
   ]
  },
  {
   "cell_type": "code",
   "execution_count": null,
   "metadata": {},
   "outputs": [],
   "source": [
    "# bit more complex:\n",
    "def f(a, b, c):\n",
    "    return a * b + c\n",
    "\n",
    "a = 2.0\n",
    "b = -3.0\n",
    "c = 10.0\n",
    "print(f(a, b, c))"
   ]
  },
  {
   "cell_type": "code",
   "execution_count": null,
   "metadata": {},
   "outputs": [],
   "source": [
    "h = 0.001\n",
    "d1 = f(a, b, c)\n",
    "c += h\n",
    "d2 = f(a, b, c)\n",
    "print('d1', d1)\n",
    "print('d2', d2)"
   ]
  },
  {
   "cell_type": "code",
   "execution_count": null,
   "metadata": {},
   "outputs": [],
   "source": [
    "print('slope', (d2 - d1)/h)"
   ]
  },
  {
   "cell_type": "code",
   "execution_count": null,
   "metadata": {},
   "outputs": [],
   "source": [
    "math.exp(1)"
   ]
  },
  {
   "cell_type": "code",
   "execution_count": null,
   "metadata": {},
   "outputs": [],
   "source": [
    "from graphviz import Digraph\n",
    "\n",
    "def trace(root):\n",
    "    # build a set of all nodes and edges in a graph\n",
    "    nodes, edges = set(), set()\n",
    "    def build(v):\n",
    "        if v not in nodes:\n",
    "            nodes.add(v)\n",
    "            for child in v._prev:\n",
    "                edges.add((child, v))\n",
    "                build(child)\n",
    "    build(root)\n",
    "    return nodes, edges\n",
    "\n",
    "def draw_dot(root, format='svg', rankdir='LR'):\n",
    "    dot = Digraph(format=format, graph_attr={'rankdir': rankdir})\n",
    "\n",
    "    nodes, edges = trace(root)\n",
    "    \n",
    "    for n in nodes:\n",
    "        uid = str(id(n))\n",
    "        # for any value in the graph create a rectangular ('record') node for it\n",
    "        dot.node(name=uid, label=\"{ %s | data %.4f | grad %.4f}\" % (n.label, n.data, n.grad), shape='record')\n",
    "        if n._op:\n",
    "            # if this value is a result of operation create op node for it\n",
    "            dot.node(name=uid + n._op, label=n._op)\n",
    "            # and connect this node to it\n",
    "            dot.edge(uid + n._op, uid)\n",
    "\n",
    "    for n1, n2 in edges:\n",
    "        # connect n1 node to the op node of n2\n",
    "        dot.edge(str(id(n1)), str(id(n2)) + n2._op)\n",
    "\n",
    "    return dot"
   ]
  },
  {
   "cell_type": "code",
   "execution_count": null,
   "metadata": {},
   "outputs": [],
   "source": [
    "h = 0.001\n",
    "a = Value(2.0, label='a')\n",
    "b = Value(-3.0, label='b')\n",
    "c = Value(10.0, label='c')\n",
    "e = a*b\n",
    "e.label='e'\n",
    "d = e + c\n",
    "d.label = 'd'\n",
    "f = Value(-2.0, label='f')\n",
    "L = d*f\n",
    "L.label='L'\n",
    "\n",
    "draw_dot(L)"
   ]
  },
  {
   "cell_type": "markdown",
   "metadata": {},
   "source": [
    "### Manual backpropagation"
   ]
  },
  {
   "cell_type": "code",
   "execution_count": null,
   "metadata": {},
   "outputs": [],
   "source": [
    "# https://www.youtube.com/watch?v=VMj-3S1tku0&ab_channel=AndrejKarpathy\n",
    "\n",
    "# if we change L by h we expect the entire function to change by h so the derivative should be 1\n",
    "# proof:\n",
    "# dL/dL = 1\n",
    "# function changes linearly\n",
    "\n",
    "# for * node we can determine gradients this way:\n",
    "# L = d * f\n",
    "# dL/dd =? f\n",
    "# change d (x) by tiny amount h:\n",
    "# (f(x+h)-f(x))/h = (fx + fh - fx)/h = fh/h = f\n",
    "\n",
    "# this will mean:\n",
    "# f.grad = d\n",
    "# d.grad = f\n",
    "\n",
    "\n",
    "L.grad = 1\n",
    "d.grad = -2.0\n",
    "f.grad = 4.0\n",
    "\n",
    "def lol():\n",
    "    h = 0.001\n",
    "    a = Value(2.0, label='a')\n",
    "    b = Value(-3.0, label='b')\n",
    "    c = Value(10.0, label='c')\n",
    "    e = a*b\n",
    "    e.label='e'\n",
    "    d = e + c\n",
    "    d.label = 'd'\n",
    "    f = Value(-2.0, label='f')\n",
    "    L = d*f\n",
    "    L.label='L'\n",
    "    L1 = L.data\n",
    "\n",
    "    a = Value(2.0, label='a')\n",
    "    b = Value(-3.0, label='b')\n",
    "    c = Value(10.0, label='c')\n",
    "    e = a*b\n",
    "    e.label='e'\n",
    "    d = e + c\n",
    "    d.label = 'd'\n",
    "    d.data += h # for gardient check... numerical verification that we calculated f.grade correctly\n",
    "    f = Value(-2.0, label='f')\n",
    "    L = d*f\n",
    "    L.label='L'\n",
    "    L2 = L.data\n",
    "\n",
    "    print((L2-L1) / h)\n",
    "\n",
    "lol()\n",
    "\n",
    "draw_dot(L)\n"
   ]
  },
  {
   "cell_type": "code",
   "execution_count": null,
   "metadata": {},
   "outputs": [],
   "source": [
    "'''\n",
    "next we need to understand dL by dc, i.e. dL/dc\n",
    "focusing on d only we know that L get impacted by c through d so what is the impact of c on d?\n",
    "dd / dc = ?\n",
    "we know that d = c + e so dd/dc = 1.0\n",
    "proof (input c+e for x):\n",
    "(f(x+h) - f(x))/h = (c + h + e) - (c + e) / h = h/h = 1\n",
    "\n",
    "dd / de = 1.0 - this is just local node derivative and we need to continue\n",
    "\n",
    "WANT:\n",
    "dL by dc i.e. dL / dc\n",
    "\n",
    "KNOW:\n",
    "dL / dd\n",
    "\n",
    "applying chain rule:\n",
    "dL/de = dL/dd * dd/de = -2.0 * 1.0 = -2.0\n",
    "'''\n",
    "c.grad = -2.0\n",
    "e.grad = -2.0 # explain why :-)\n",
    "\n",
    "draw_dot(L)"
   ]
  },
  {
   "cell_type": "code",
   "execution_count": null,
   "metadata": {},
   "outputs": [],
   "source": [
    "'''\n",
    "let's do the final part here finding dL / db and dL / da\n",
    "we know that e = a * b\n",
    "first we will do de / da which we expect to be b\n",
    "and symetrically de / db = a\n",
    "\n",
    "these are just local so we need to continue applying chain rule knowing that e = a * b\n",
    "\n",
    "WANT:\n",
    "dL / da\n",
    "\n",
    "KNOW:\n",
    "dL / dd; dL / de; dd/de but we just need the node we are backpropagating from i.e. dL/de and \n",
    "we are not traversing across entire chain\n",
    "\n",
    "WRONG: dL/dd * dd/de * de/da\n",
    "RIGHT: dL/de * de/da\n",
    "\n",
    "applying chain rule:\n",
    "dL / da = dL/de * de/da = -2.0 * b = -3.0 == 6.0\n",
    "dl / db = dL/de * de/db = -2.0 * a = 2.0 == -4\n",
    "'''\n",
    "a.grad = 6.0\n",
    "b.grad = -4.0\n",
    "draw_dot(L)"
   ]
  },
  {
   "cell_type": "code",
   "execution_count": null,
   "metadata": {},
   "outputs": [],
   "source": [
    "'''\n",
    "Let's increase the value of some leaf nodes by 0.01 to see impact on L\n",
    "'''\n",
    "a.data += 0.01 * a.grad\n",
    "b.data += 0.01 * b.grad\n",
    "c.data += 0.01 * c.grad\n",
    "f.data += 0.01 * f.grad\n",
    "\n",
    "e = a * b\n",
    "d = e + c\n",
    "L = d * f\n",
    "\n",
    "print(L)"
   ]
  },
  {
   "cell_type": "markdown",
   "metadata": {},
   "source": [
    "### Manual backpropagation example with neuron"
   ]
  },
  {
   "cell_type": "code",
   "execution_count": null,
   "metadata": {},
   "outputs": [],
   "source": [
    "# inputs\n",
    "x1 = Value(2.0, label='x1')\n",
    "x2 = Value(0.0, label='x2')\n",
    "# weights\n",
    "w1 = Value(-3.0, label='w1')\n",
    "w2 = Value(1.0, label='w2')\n",
    "#bias\n",
    "b = Value(6.8813735870195432, label='b')\n",
    "# according to neuron model (wikipedia)\n",
    "# x1w1 + x2w2 + b\n",
    "x1w1 = x1*w1; x1w1.label = 'x1w1'\n",
    "x2w2 = x2*w2; x2w2.label = 'x2w2'\n",
    "x1w1x2w2 = x1w1 + x2w2; x1w1x2w2.label='x1w1 + x2w2'\n",
    "n = x1w1x2w2 + b; n.label = 'n'"
   ]
  },
  {
   "cell_type": "code",
   "execution_count": null,
   "metadata": {},
   "outputs": [],
   "source": [
    "# take this through the activation function tanh\n",
    "# tanh we need to implement in Value class (check code above)\n",
    "o = n.tanh(); o.label = 'o'"
   ]
  },
  {
   "cell_type": "code",
   "execution_count": null,
   "metadata": {},
   "outputs": [],
   "source": [
    "draw_dot(o)"
   ]
  },
  {
   "cell_type": "code",
   "execution_count": null,
   "metadata": {},
   "outputs": [],
   "source": [
    "# starting the backpropagation\n",
    "# STEP 1: what is the derivative of o with respect to o? it's 1\n",
    "o.grad = 1\n",
    "draw_dot(o)"
   ]
  },
  {
   "cell_type": "code",
   "execution_count": null,
   "metadata": {},
   "outputs": [],
   "source": [
    "# STEP 2: if o = tanh(n) what is do/dn?\n",
    "# do/dn = 1 - (tanh(n**2)) = 1 - o**2\n",
    "n.grad = 1 - o.data**2\n",
    "draw_dot(o)"
   ]
  },
  {
   "cell_type": "code",
   "execution_count": null,
   "metadata": {},
   "outputs": [],
   "source": [
    "# STEP 3: What is do / db\n",
    "# WE KNOW that + operation just routes next gradient so 0.5 will go both into b and x1w1+x2w2\n",
    "b.grad = 0.5\n",
    "x1w1x2w2.grad = 0.5\n",
    "draw_dot(o)"
   ]
  },
  {
   "cell_type": "code",
   "execution_count": null,
   "metadata": {},
   "outputs": [],
   "source": [
    "# STEP 4 - same as STEP3\n",
    "x1w1.grad = 0.5\n",
    "x2w2.grad = 0.5\n",
    "draw_dot(o)"
   ]
  },
  {
   "cell_type": "code",
   "execution_count": null,
   "metadata": {},
   "outputs": [],
   "source": [
    "# STEP 5\n",
    "# what id do/dx1 ? \n",
    "# we know that x1w1 = x1 * w1 so dx1w1/dx1 = w1 and dx1w1/w1 = x1\n",
    "\n",
    "# apply chain rule : do/dx1 = do/dx1w1 * dx1w1/dx1 (which is w1) = 0.5 * -3.0\n",
    "# and also : do/dw1 = do/dx1w1 * dx1w1/dw1 (which is x1) = 0.5 * 2\n",
    "x1.grad = 0.5 * -3.0\n",
    "w1.grad = 1.0\n",
    "\n",
    "\n",
    "# similarly x2.grad = do/dx2?\n",
    "# do/dx2 = do/dw2x2 * dw2x2/dx2 (which is w2) so it means that x2.grad = x2w2.grad * w2.data\n",
    "x2.grad = 0.5 * 1.0\n",
    "w2.grad = 0.5 * 0\n",
    "draw_dot(o)"
   ]
  },
  {
   "cell_type": "markdown",
   "metadata": {},
   "source": [
    "To implement backpropagation now we go back to Value object and create self._backward = lambda: None\n",
    "After implementation of _backward functions we can re-run the backpropagation to check if it works"
   ]
  },
  {
   "cell_type": "code",
   "execution_count": null,
   "metadata": {},
   "outputs": [],
   "source": [
    "# inputs\n",
    "x1 = Value(2.0, label='x1')\n",
    "x2 = Value(0.0, label='x2')\n",
    "# weights\n",
    "w1 = Value(-3.0, label='w1')\n",
    "w2 = Value(1.0, label='w2')\n",
    "#bias\n",
    "b = Value(6.8813735870195432, label='b')\n",
    "# according to neuron model (wikipedia)\n",
    "# x1w1 + x2w2 + b\n",
    "x1w1 = x1*w1; x1w1.label = 'x1w1'\n",
    "x2w2 = x2*w2; x2w2.label = 'x2w2'\n",
    "x1w1x2w2 = x1w1 + x2w2; x1w1x2w2.label='x1w1 + x2w2'\n",
    "n = x1w1x2w2 + b; n.label = 'n'\n",
    "o = n.tanh(); o.label = 'o'"
   ]
  },
  {
   "cell_type": "code",
   "execution_count": null,
   "metadata": {},
   "outputs": [],
   "source": [
    "# initialize o.grad\n",
    "o.grad = 1.0\n",
    "o._backward()\n",
    "draw_dot(o)"
   ]
  },
  {
   "cell_type": "code",
   "execution_count": null,
   "metadata": {},
   "outputs": [],
   "source": [
    "n._backward()\n",
    "draw_dot(o)"
   ]
  },
  {
   "cell_type": "code",
   "execution_count": null,
   "metadata": {},
   "outputs": [],
   "source": [
    "x1w1x2w2._backward()\n",
    "draw_dot(o)"
   ]
  },
  {
   "cell_type": "code",
   "execution_count": null,
   "metadata": {},
   "outputs": [],
   "source": [
    "x1w1._backward()\n",
    "x2w2._backward()\n",
    "draw_dot(o)"
   ]
  },
  {
   "cell_type": "code",
   "execution_count": null,
   "metadata": {},
   "outputs": [],
   "source": [
    "# building topological sort of nodes so we don't have to call backward function numerous times\n",
    "topo = []\n",
    "visited = set()\n",
    "def build_topo(v):\n",
    "    if v not in visited:\n",
    "        visited.add(v)\n",
    "        for child in v._prev:\n",
    "            build_topo(child)\n",
    "        topo.append(v)\n",
    "build_topo(o)\n",
    "topo"
   ]
  },
  {
   "cell_type": "code",
   "execution_count": null,
   "metadata": {},
   "outputs": [],
   "source": [
    "# inputs\n",
    "x1 = Value(2.0, label='x1')\n",
    "x2 = Value(0.0, label='x2')\n",
    "# weights\n",
    "w1 = Value(-3.0, label='w1')\n",
    "w2 = Value(1.0, label='w2')\n",
    "#bias\n",
    "b = Value(6.8813735870195432, label='b')\n",
    "# according to neuron model (wikipedia)\n",
    "# x1w1 + x2w2 + b\n",
    "x1w1 = x1*w1; x1w1.label = 'x1w1'\n",
    "x2w2 = x2*w2; x2w2.label = 'x2w2'\n",
    "x1w1x2w2 = x1w1 + x2w2; x1w1x2w2.label='x1w1 + x2w2'\n",
    "n = x1w1x2w2 + b; n.label = 'n'\n",
    "o = n.tanh(); o.label = 'o'\n",
    "\n",
    "o.backward()\n"
   ]
  },
  {
   "cell_type": "code",
   "execution_count": null,
   "metadata": {},
   "outputs": [],
   "source": [
    "# draw_dot(o)"
   ]
  },
  {
   "cell_type": "code",
   "execution_count": null,
   "metadata": {},
   "outputs": [],
   "source": [
    "# inputs\n",
    "x1 = Value(2.0, label='x1')\n",
    "x2 = Value(0.0, label='x2')\n",
    "# weights\n",
    "w1 = Value(-3.0, label='w1')\n",
    "w2 = Value(1.0, label='w2')\n",
    "#bias\n",
    "b = Value(6.8813735870195432, label='b')\n",
    "# according to neuron model (wikipedia)\n",
    "# x1w1 + x2w2 + b\n",
    "x1w1 = x1*w1; x1w1.label = 'x1w1'\n",
    "x2w2 = x2*w2; x2w2.label = 'x2w2'\n",
    "x1w1x2w2 = x1w1 + x2w2; x1w1x2w2.label='x1w1 + x2w2'\n",
    "n = x1w1x2w2 + b; n.label = 'n'\n",
    "\n",
    "# break tanh\n",
    "e = (2*n).exp()\n",
    "o = (e - 1)/(e + 1)\n",
    "o.label = 'o'\n",
    "\n",
    "o.backward()\n",
    "draw_dot(o)"
   ]
  },
  {
   "cell_type": "code",
   "execution_count": null,
   "metadata": {},
   "outputs": [],
   "source": [
    "# create a NN with 3 inputs; 2 layers of 4 nodes and single node output\n",
    "x = [2.0, 3.0, -1.0]\n",
    "n = MLP(3, [4, 4, 1])\n",
    "n(x)\n",
    "# draw_dot(n(x))"
   ]
  },
  {
   "cell_type": "code",
   "execution_count": null,
   "metadata": {},
   "outputs": [],
   "source": [
    "# let's create a simple dataset with 4 possible inputs into the NN\n",
    "xs = [\n",
    "    [2.0, 3.0, -1.0],\n",
    "    [3.0, -1.0, 0.5],\n",
    "    [0.5, 1.0, 1.0],\n",
    "    [1.0, 1.0, -1.0]\n",
    "] \n",
    "\n",
    "ys = [1.0, -1.0, -1.0, 1.0] # desired targets"
   ]
  },
  {
   "cell_type": "code",
   "execution_count": null,
   "metadata": {},
   "outputs": [],
   "source": [
    "# train the network now\n",
    "for k in range(200):\n",
    "    # forward pass:\n",
    "    ypred = [n(x) for x in xs]\n",
    "    loss = sum((yout - ygt)**2 for ygt, yout in zip(ys, ypred))\n",
    "\n",
    "    # backward pass:\n",
    "    for p in n.parameters():\n",
    "        p.grad = 0.0\n",
    "    loss.backward()\n",
    "\n",
    "    # update\n",
    "    for p in n.parameters():\n",
    "        p.data += -0.1 * p.grad\n",
    "    \n",
    "    if k % 1 == 0:\n",
    "        print(f\"Step: {k} loss: {loss.data}\")"
   ]
  },
  {
   "cell_type": "code",
   "execution_count": null,
   "metadata": {},
   "outputs": [],
   "source": [
    "print(n.layers[0].neurons[0].w[0].grad)\n",
    "print(n.layers[0].neurons[0].w[0].data)"
   ]
  },
  {
   "cell_type": "code",
   "execution_count": null,
   "metadata": {},
   "outputs": [],
   "source": [
    "ypred"
   ]
  },
  {
   "cell_type": "code",
   "execution_count": null,
   "metadata": {},
   "outputs": [],
   "source": [
    "# gather all parameters of NN: once training is complete:\n",
    "n.parameters()"
   ]
  },
  {
   "cell_type": "code",
   "execution_count": null,
   "metadata": {},
   "outputs": [],
   "source": []
  }
 ],
 "metadata": {
  "kernelspec": {
   "display_name": "micrograd",
   "language": "python",
   "name": "python3"
  },
  "language_info": {
   "codemirror_mode": {
    "name": "ipython",
    "version": 3
   },
   "file_extension": ".py",
   "mimetype": "text/x-python",
   "name": "python",
   "nbconvert_exporter": "python",
   "pygments_lexer": "ipython3",
   "version": "3.10.12"
  }
 },
 "nbformat": 4,
 "nbformat_minor": 2
}
